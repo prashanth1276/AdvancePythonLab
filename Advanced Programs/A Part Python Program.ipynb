{
 "cells": [
  {
   "cell_type": "markdown",
   "id": "f934cccd-74a3-4a2c-9792-96f452f3273e",
   "metadata": {},
   "source": [
    "# A1 Program\n",
    "Create a base class “polygon” and the derived class “triangle”, demonstrate inheritance by inheriting findArea() function to calculate area of the triangle."
   ]
  },
  {
   "cell_type": "code",
   "execution_count": 17,
   "id": "42da99d4-93d9-4f80-9d24-d407da3cde1d",
   "metadata": {},
   "outputs": [
    {
     "name": "stdin",
     "output_type": "stream",
     "text": [
      "Enter the Side1: 3\n",
      "Enter the Side2: 2\n",
      "Enter the Side3: 4\n"
     ]
    },
    {
     "name": "stdout",
     "output_type": "stream",
     "text": [
      "side 1 : 3.0\n",
      "side 2 : 2.0\n",
      "side 3 : 4.0\n",
      "The area of tiangle is : 2.90\n"
     ]
    }
   ],
   "source": [
    "class Polygon:\n",
    "    def __init__(self,no_of_sides):\n",
    "        self.n = no_of_sides\n",
    "        self.sides = [0 for i in range(no_of_sides)]\n",
    "    \n",
    "    def inputsides(self):\n",
    "        self.sides = [float(input(\"Enter the Side\"+str(i+1)+\":\")) for i in range(self.n)]\n",
    "        \n",
    "    def dispsides(self):\n",
    "        for i in range(self.n):\n",
    "            print(\"side\",i+1,\":\",self.sides[i])\n",
    "\n",
    "    def FindArea(self):\n",
    "        a,b,c = self.sides\n",
    "        s = (a+b+c)/2\n",
    "        area = (s*(s-a)*(s-b)*(s-c)) ** 0.5\n",
    "        print('The area of tiangle is : %0.2f' %area)\n",
    "\n",
    "class Triangle(Polygon):\n",
    "    def __init__(self):\n",
    "        Polygon.__init__(self,3)\n",
    "t = Triangle()\n",
    "t.inputsides()\n",
    "t.dispsides()\n",
    "t.FindArea()"
   ]
  },
  {
   "cell_type": "markdown",
   "id": "d15ed7fb-0cef-47fa-8618-bd37e06b027e",
   "metadata": {},
   "source": [
    "# A2 Program\n",
    "Design a Python program using Regular expressions to a) Extract Email IDs from a given text. b) Validate the user password with minimum length=6 and maximum length=16 and must have at least one lower-case letter, upper-case letter, number and special symbol (#, @, $, _)."
   ]
  },
  {
   "cell_type": "code",
   "execution_count": 43,
   "id": "5b98e373-eba8-4f11-9971-bac254b9864d",
   "metadata": {},
   "outputs": [
    {
     "name": "stdout",
     "output_type": "stream",
     "text": [
      "Prashanth@gmail.com is a valid Gmail address\n",
      "preetham@yahoo.com is not a valid Gmail address\n"
     ]
    }
   ],
   "source": [
    "import re\n",
    "\n",
    "S = \"Hello World How are you I am sending mail from Prashanth@gmail.com to preetham@yahoo.com and to @2pm\"\n",
    "list = re.findall('\\S+@\\S+',S)\n",
    "\n",
    "for email in list:\n",
    "    if 'gmail.com' in email:\n",
    "        print(email, \"is a valid Gmail address\")\n",
    "    else:\n",
    "        print(email, \"is not a valid Gmail address\")\n",
    "#print(list)"
   ]
  },
  {
   "cell_type": "code",
   "execution_count": 49,
   "id": "2c37d464-c516-41d3-a16e-fb74f9b09f0b",
   "metadata": {},
   "outputs": [
    {
     "name": "stdin",
     "output_type": "stream",
     "text": [
      "Enter the password Prashanth_23\n"
     ]
    },
    {
     "name": "stdout",
     "output_type": "stream",
     "text": [
      "Valid Password\n"
     ]
    }
   ],
   "source": [
    "pas = input(\"Enter the password\")\n",
    "flag = 0\n",
    "\n",
    "while True:\n",
    "    if (len(pas)<6 or len(pas)>16):\n",
    "        flag = -1\n",
    "        break\n",
    "    elif not re.search('[a-z]',pas):\n",
    "        flag = -1\n",
    "        break\n",
    "    elif not re.search('[A-Z]',pas):\n",
    "        flag = -1\n",
    "        break\n",
    "    elif not re.search('[0-9]',pas):\n",
    "        flag = -1\n",
    "        break\n",
    "    elif not re.search('[@#$&_]',pas):\n",
    "        flag = -1\n",
    "        break\n",
    "    elif re.search('\\s',pas):\n",
    "        flag = -1\n",
    "        break\n",
    "    else:\n",
    "        flag = 0\n",
    "        print(\"Valid Password\")\n",
    "        break\n",
    "if flag == -1:\n",
    "    print(\"Invalid Password\")\n",
    "    "
   ]
  },
  {
   "cell_type": "markdown",
   "id": "58222f74-d9d4-41e4-846c-6fbe2708df83",
   "metadata": {},
   "source": [
    "# A3 Program\n",
    "Write a NumPy program to create a structured array from given student name, height, class and their data types. Finally sort the array on height."
   ]
  },
  {
   "cell_type": "code",
   "execution_count": 68,
   "id": "a97463ff-584e-4e18-a622-bcf90de28dbd",
   "metadata": {},
   "outputs": [
    {
     "name": "stdout",
     "output_type": "stream",
     "text": [
      "[(b'Prashanth', 12, 176.2) (b'Pranav',  9, 174.9) (b'Preetham', 10, 176. )]\n",
      "[(b'Pranav',  9, 174.9) (b'Preetham', 10, 176. ) (b'Prashanth', 12, 176.2)]\n",
      "        name  class  height\n",
      "0  Prashanth     12   176.2\n",
      "1     Pranav      9   174.9\n",
      "2   Preetham     10   176.0\n",
      "        name  class  height\n",
      "1     Pranav      9   174.9\n",
      "2   Preetham     10   176.0\n",
      "0  Prashanth     12   176.2\n"
     ]
    }
   ],
   "source": [
    "import numpy as np\n",
    "\n",
    "type = [('name','S20'),('class',int),('height',float)]\n",
    "details = [('Prashanth',12,176.2),('Pranav',9,174.9),('Preetham',10,176.0)]\n",
    "student = np.array(details,dtype=type)\n",
    "print(student)\n",
    "print(np.sort(student,order=\"height\"))\n",
    "\n",
    "import pandas as pd\n",
    "data = [('Prashanth',12,176.2),('Pranav',9,174.9),('Preetham',10,176.0)]\n",
    "df= pd.DataFrame(data,columns=['name','class','height'])\n",
    "print(df)\n",
    "print(df.sort_values(by='height'))"
   ]
  },
  {
   "cell_type": "markdown",
   "id": "cdbb8803-c212-47cd-a6c3-d2f0988e3dac",
   "metadata": {},
   "source": [
    "# A4 Porgram\n",
    "Read the given data “churn.csv” and save it as a dataframe called churn_data. Perform following operations on the dataframe i) Count total number of duplicate records in the dataframe ii) Count the no. of duplicate records in the churn dataframe based on the cutomerID column iii) Count number of missing values in each columns iv) Count the total no. of missing values for the variable TotalCharges v) Average monthly charge paid by a customer for the services he/she has signed up for vi) Display the records having “1@#” under the variable Dependents vii) Replace null values in churn dataframe by median value or by max count class category"
   ]
  },
  {
   "cell_type": "code",
   "execution_count": 81,
   "id": "8f9f0f47-9d9e-4d70-af9c-b163d0a3c5a3",
   "metadata": {},
   "outputs": [
    {
     "name": "stdout",
     "output_type": "stream",
     "text": [
      "     Unnamed: 0  customerID tenure        Contract PaperlessBilling  \\\n",
      "0             1  8260-NGFNY    One  Month-to-month               No   \n",
      "1             2  2359-QWQUL     39        One year              Yes   \n",
      "2             3  6598/RFFVI      2        One year               No   \n",
      "3             4  IXSTS-8780      6  Month-to-month              Yes   \n",
      "4             5  2674/MIAHT   Four  Month-to-month              Yes   \n",
      "..          ...         ...    ...             ...              ...   \n",
      "253         254  9067-SQTNS     44        One year               No   \n",
      "254         255  9067-SQTNS     44        One year               No   \n",
      "255         256  9067-SQTNS     44        One year               No   \n",
      "256         257  9067-SQTNS     44        One year               No   \n",
      "257         258  9067-SQTNS     44        One year               No   \n",
      "\n",
      "                 PaymentMethod  MonthlyCharges  TotalCharges  gender  \\\n",
      "0                 Mailed check            25.2         25.20  Female   \n",
      "1      Credit card (automatic)           104.7       4134.85  Female   \n",
      "2      Credit card (automatic)            19.3         28.30    Male   \n",
      "3             Electronic check            90.1        521.30  Female   \n",
      "4                 Mailed check            80.3        324.20  Female   \n",
      "..                         ...             ...           ...     ...   \n",
      "253  Bank transfer (automatic)            20.6        926.00    Male   \n",
      "254  Bank transfer (automatic)            20.6        926.00    Male   \n",
      "255  Bank transfer (automatic)            20.6        926.00    Male   \n",
      "256  Bank transfer (automatic)            20.6        926.00    Male   \n",
      "257  Bank transfer (automatic)            20.6        926.00    Male   \n",
      "\n",
      "     SeniorCitizen  ... PhoneService     MultipleLines InternetService  \\\n",
      "0              0.0  ...           No  No phone service             DSL   \n",
      "1              0.0  ...          Yes                No     Fiber optic   \n",
      "2              0.0  ...          Yes                No              No   \n",
      "3              0.0  ...          Yes               Yes     Fiber optic   \n",
      "4              0.0  ...          Yes               Yes     Fiber optic   \n",
      "..             ...  ...          ...               ...             ...   \n",
      "253            0.0  ...          Yes                No              No   \n",
      "254            0.0  ...          Yes                No              No   \n",
      "255            0.0  ...          Yes                No              No   \n",
      "256            0.0  ...          Yes                No              No   \n",
      "257            0.0  ...          Yes                No              No   \n",
      "\n",
      "          OnlineSecurity         OnlineBackup     DeviceProtection  \\\n",
      "0                     No                   No                   No   \n",
      "1                    Yes                   No                  Yes   \n",
      "2    No internet service  No internet service  No internet service   \n",
      "3                     No                  Yes                   No   \n",
      "4                     No                  Yes                   No   \n",
      "..                   ...                  ...                  ...   \n",
      "253                  Yes                  Yes  No internet service   \n",
      "254                  Yes                  Yes  No internet service   \n",
      "255                  Yes                  Yes  No internet service   \n",
      "256                  Yes                  Yes  No internet service   \n",
      "257                  Yes                  Yes  No internet service   \n",
      "\n",
      "             TechSupport          StreamingTV      StreamingMovies Churn  \n",
      "0                     No                   No                   No   Yes  \n",
      "1                    Yes                  Yes                  Yes   Yes  \n",
      "2    No internet service  No internet service  No internet service   Yes  \n",
      "3                     No                  Yes                   No   Yes  \n",
      "4                     No                   No                   No    No  \n",
      "..                   ...                  ...                  ...   ...  \n",
      "253  No internet service                  Yes  No internet service    No  \n",
      "254  No internet service                  Yes  No internet service    No  \n",
      "255  No internet service                  Yes  No internet service    No  \n",
      "256  No internet service                  Yes  No internet service    No  \n",
      "257  No internet service                  Yes  No internet service    No  \n",
      "\n",
      "[258 rows x 22 columns]\n"
     ]
    }
   ],
   "source": [
    "import pandas as pd\n",
    "\n",
    "df = pd.read_csv('churn.csv')\n",
    "print(df)"
   ]
  },
  {
   "cell_type": "code",
   "execution_count": 83,
   "id": "19a9fce9-b994-4dae-bc72-a8c9c2017aa9",
   "metadata": {},
   "outputs": [
    {
     "data": {
      "text/plain": [
       "0"
      ]
     },
     "execution_count": 83,
     "metadata": {},
     "output_type": "execute_result"
    }
   ],
   "source": [
    "df.duplicated(keep=False).sum()"
   ]
  },
  {
   "cell_type": "code",
   "execution_count": 80,
   "id": "216f1cad-bfe5-476c-9a57-b6e52b15e1a0",
   "metadata": {},
   "outputs": [
    {
     "data": {
      "text/plain": [
       "258"
      ]
     },
     "execution_count": 80,
     "metadata": {},
     "output_type": "execute_result"
    }
   ],
   "source": [
    "df['cutomerID'].duplicated(keep=False).sum()"
   ]
  },
  {
   "cell_type": "code",
   "execution_count": 84,
   "id": "59c32adf-a13c-42b1-9f93-cb9b454d3550",
   "metadata": {},
   "outputs": [
    {
     "data": {
      "text/plain": [
       "Unnamed: 0           0\n",
       "customerID           0\n",
       "tenure               0\n",
       "Contract             0\n",
       "PaperlessBilling     0\n",
       "PaymentMethod        0\n",
       "MonthlyCharges      10\n",
       "TotalCharges        15\n",
       "gender               0\n",
       "SeniorCitizen        5\n",
       "Partner              0\n",
       "Dependents           0\n",
       "PhoneService         0\n",
       "MultipleLines        0\n",
       "InternetService      0\n",
       "OnlineSecurity       0\n",
       "OnlineBackup         0\n",
       "DeviceProtection     0\n",
       "TechSupport          0\n",
       "StreamingTV          0\n",
       "StreamingMovies      0\n",
       "Churn                0\n",
       "dtype: int64"
      ]
     },
     "execution_count": 84,
     "metadata": {},
     "output_type": "execute_result"
    }
   ],
   "source": [
    "df.isna().sum()"
   ]
  },
  {
   "cell_type": "code",
   "execution_count": 86,
   "id": "3854c61f-f024-4a78-99b1-dd0605ec7f25",
   "metadata": {},
   "outputs": [
    {
     "data": {
      "text/plain": [
       "15"
      ]
     },
     "execution_count": 86,
     "metadata": {},
     "output_type": "execute_result"
    }
   ],
   "source": [
    "df['TotalCharges'].isna().sum()"
   ]
  },
  {
   "cell_type": "code",
   "execution_count": 87,
   "id": "fe9b519a-b317-4cd3-9b1b-0498f2c43d5c",
   "metadata": {},
   "outputs": [
    {
     "data": {
      "text/plain": [
       "62.3046370967742"
      ]
     },
     "execution_count": 87,
     "metadata": {},
     "output_type": "execute_result"
    }
   ],
   "source": [
    "df['MonthlyCharges'].mean()"
   ]
  },
  {
   "cell_type": "code",
   "execution_count": 91,
   "id": "e0298f85-9830-4bb6-ba19-eaf2d4469d44",
   "metadata": {},
   "outputs": [
    {
     "data": {
      "text/html": [
       "<div>\n",
       "<style scoped>\n",
       "    .dataframe tbody tr th:only-of-type {\n",
       "        vertical-align: middle;\n",
       "    }\n",
       "\n",
       "    .dataframe tbody tr th {\n",
       "        vertical-align: top;\n",
       "    }\n",
       "\n",
       "    .dataframe thead th {\n",
       "        text-align: right;\n",
       "    }\n",
       "</style>\n",
       "<table border=\"1\" class=\"dataframe\">\n",
       "  <thead>\n",
       "    <tr style=\"text-align: right;\">\n",
       "      <th></th>\n",
       "      <th>Unnamed: 0</th>\n",
       "      <th>customerID</th>\n",
       "      <th>tenure</th>\n",
       "      <th>Contract</th>\n",
       "      <th>PaperlessBilling</th>\n",
       "      <th>PaymentMethod</th>\n",
       "      <th>MonthlyCharges</th>\n",
       "      <th>TotalCharges</th>\n",
       "      <th>gender</th>\n",
       "      <th>SeniorCitizen</th>\n",
       "      <th>...</th>\n",
       "      <th>PhoneService</th>\n",
       "      <th>MultipleLines</th>\n",
       "      <th>InternetService</th>\n",
       "      <th>OnlineSecurity</th>\n",
       "      <th>OnlineBackup</th>\n",
       "      <th>DeviceProtection</th>\n",
       "      <th>TechSupport</th>\n",
       "      <th>StreamingTV</th>\n",
       "      <th>StreamingMovies</th>\n",
       "      <th>Churn</th>\n",
       "    </tr>\n",
       "  </thead>\n",
       "  <tbody>\n",
       "    <tr>\n",
       "      <th>89</th>\n",
       "      <td>90</td>\n",
       "      <td>1754-GKYPY</td>\n",
       "      <td>22</td>\n",
       "      <td>Month-to-month</td>\n",
       "      <td>Yes</td>\n",
       "      <td>Bank transfer (automatic)</td>\n",
       "      <td>89.75</td>\n",
       "      <td>1938.90</td>\n",
       "      <td>Male</td>\n",
       "      <td>1.0</td>\n",
       "      <td>...</td>\n",
       "      <td>Yes</td>\n",
       "      <td>No</td>\n",
       "      <td>Fiber optic</td>\n",
       "      <td>No</td>\n",
       "      <td>No</td>\n",
       "      <td>No</td>\n",
       "      <td>No</td>\n",
       "      <td>Yes</td>\n",
       "      <td>Yes</td>\n",
       "      <td>No</td>\n",
       "    </tr>\n",
       "    <tr>\n",
       "      <th>125</th>\n",
       "      <td>126</td>\n",
       "      <td>9108-EQPNQ</td>\n",
       "      <td>10</td>\n",
       "      <td>Two year</td>\n",
       "      <td>No</td>\n",
       "      <td>Credit card (automatic)</td>\n",
       "      <td>26.10</td>\n",
       "      <td>225.55</td>\n",
       "      <td>Female</td>\n",
       "      <td>0.0</td>\n",
       "      <td>...</td>\n",
       "      <td>Yes</td>\n",
       "      <td>Yes</td>\n",
       "      <td>No</td>\n",
       "      <td>No internet service</td>\n",
       "      <td>No internet service</td>\n",
       "      <td>No internet service</td>\n",
       "      <td>No internet service</td>\n",
       "      <td>No internet service</td>\n",
       "      <td>No internet service</td>\n",
       "      <td>No</td>\n",
       "    </tr>\n",
       "    <tr>\n",
       "      <th>174</th>\n",
       "      <td>175</td>\n",
       "      <td>2640-PMGFL</td>\n",
       "      <td>27</td>\n",
       "      <td>Month-to-month</td>\n",
       "      <td>Yes</td>\n",
       "      <td>Electronic check</td>\n",
       "      <td>79.50</td>\n",
       "      <td>2180.55</td>\n",
       "      <td>Male</td>\n",
       "      <td>0.0</td>\n",
       "      <td>...</td>\n",
       "      <td>Yes</td>\n",
       "      <td>Yes</td>\n",
       "      <td>Fiber optic</td>\n",
       "      <td>No</td>\n",
       "      <td>No</td>\n",
       "      <td>No</td>\n",
       "      <td>Yes</td>\n",
       "      <td>No</td>\n",
       "      <td>No</td>\n",
       "      <td>Yes</td>\n",
       "    </tr>\n",
       "    <tr>\n",
       "      <th>220</th>\n",
       "      <td>221</td>\n",
       "      <td>8854-CCVSQ</td>\n",
       "      <td>18</td>\n",
       "      <td>Month-to-month</td>\n",
       "      <td>Yes</td>\n",
       "      <td>Electronic check</td>\n",
       "      <td>80.65</td>\n",
       "      <td>1451.90</td>\n",
       "      <td>Male</td>\n",
       "      <td>0.0</td>\n",
       "      <td>...</td>\n",
       "      <td>Yes</td>\n",
       "      <td>Yes</td>\n",
       "      <td>Fiber optic</td>\n",
       "      <td>No</td>\n",
       "      <td>Yes</td>\n",
       "      <td>No</td>\n",
       "      <td>No</td>\n",
       "      <td>No</td>\n",
       "      <td>No</td>\n",
       "      <td>Yes</td>\n",
       "    </tr>\n",
       "    <tr>\n",
       "      <th>234</th>\n",
       "      <td>235</td>\n",
       "      <td>6876-ADESB</td>\n",
       "      <td>One</td>\n",
       "      <td>Month-to-month</td>\n",
       "      <td>No</td>\n",
       "      <td>Electronic check</td>\n",
       "      <td>48.95</td>\n",
       "      <td>48.95</td>\n",
       "      <td>Male</td>\n",
       "      <td>0.0</td>\n",
       "      <td>...</td>\n",
       "      <td>Yes</td>\n",
       "      <td>No</td>\n",
       "      <td>DSL</td>\n",
       "      <td>No</td>\n",
       "      <td>No</td>\n",
       "      <td>Yes</td>\n",
       "      <td>No</td>\n",
       "      <td>No</td>\n",
       "      <td>No</td>\n",
       "      <td>Yes</td>\n",
       "    </tr>\n",
       "    <tr>\n",
       "      <th>238</th>\n",
       "      <td>239</td>\n",
       "      <td>1972-XMUWV</td>\n",
       "      <td>65</td>\n",
       "      <td>Two year</td>\n",
       "      <td>Yes</td>\n",
       "      <td>Credit card (automatic)</td>\n",
       "      <td>59.80</td>\n",
       "      <td>3808.20</td>\n",
       "      <td>Female</td>\n",
       "      <td>0.0</td>\n",
       "      <td>...</td>\n",
       "      <td>Yes</td>\n",
       "      <td>No</td>\n",
       "      <td>DSL</td>\n",
       "      <td>No</td>\n",
       "      <td>No</td>\n",
       "      <td>No</td>\n",
       "      <td>Yes</td>\n",
       "      <td>Yes</td>\n",
       "      <td>No</td>\n",
       "      <td>No</td>\n",
       "    </tr>\n",
       "  </tbody>\n",
       "</table>\n",
       "<p>6 rows × 22 columns</p>\n",
       "</div>"
      ],
      "text/plain": [
       "     Unnamed: 0  customerID tenure        Contract PaperlessBilling  \\\n",
       "89           90  1754-GKYPY     22  Month-to-month              Yes   \n",
       "125         126  9108-EQPNQ     10        Two year               No   \n",
       "174         175  2640-PMGFL     27  Month-to-month              Yes   \n",
       "220         221  8854-CCVSQ     18  Month-to-month              Yes   \n",
       "234         235  6876-ADESB    One  Month-to-month               No   \n",
       "238         239  1972-XMUWV     65        Two year              Yes   \n",
       "\n",
       "                 PaymentMethod  MonthlyCharges  TotalCharges  gender  \\\n",
       "89   Bank transfer (automatic)           89.75       1938.90    Male   \n",
       "125    Credit card (automatic)           26.10        225.55  Female   \n",
       "174           Electronic check           79.50       2180.55    Male   \n",
       "220           Electronic check           80.65       1451.90    Male   \n",
       "234           Electronic check           48.95         48.95    Male   \n",
       "238    Credit card (automatic)           59.80       3808.20  Female   \n",
       "\n",
       "     SeniorCitizen  ... PhoneService MultipleLines InternetService  \\\n",
       "89             1.0  ...          Yes            No     Fiber optic   \n",
       "125            0.0  ...          Yes           Yes              No   \n",
       "174            0.0  ...          Yes           Yes     Fiber optic   \n",
       "220            0.0  ...          Yes           Yes     Fiber optic   \n",
       "234            0.0  ...          Yes            No             DSL   \n",
       "238            0.0  ...          Yes            No             DSL   \n",
       "\n",
       "          OnlineSecurity         OnlineBackup     DeviceProtection  \\\n",
       "89                    No                   No                   No   \n",
       "125  No internet service  No internet service  No internet service   \n",
       "174                   No                   No                   No   \n",
       "220                   No                  Yes                   No   \n",
       "234                   No                   No                  Yes   \n",
       "238                   No                   No                   No   \n",
       "\n",
       "             TechSupport          StreamingTV      StreamingMovies Churn  \n",
       "89                    No                  Yes                  Yes    No  \n",
       "125  No internet service  No internet service  No internet service    No  \n",
       "174                  Yes                   No                   No   Yes  \n",
       "220                   No                   No                   No   Yes  \n",
       "234                   No                   No                   No   Yes  \n",
       "238                  Yes                  Yes                   No    No  \n",
       "\n",
       "[6 rows x 22 columns]"
      ]
     },
     "execution_count": 91,
     "metadata": {},
     "output_type": "execute_result"
    }
   ],
   "source": [
    "df[df['Dependents'].str.contains('1@#')]"
   ]
  },
  {
   "cell_type": "code",
   "execution_count": 93,
   "id": "4c4c4cf5-c114-4372-a7fb-fdc02fc3a158",
   "metadata": {},
   "outputs": [
    {
     "name": "stdout",
     "output_type": "stream",
     "text": [
      "0       25.2\n",
      "1      104.7\n",
      "2       19.3\n",
      "3       90.1\n",
      "4       80.3\n",
      "       ...  \n",
      "253     20.6\n",
      "254     20.6\n",
      "255     20.6\n",
      "256     20.6\n",
      "257     20.6\n",
      "Name: MonthlyCharges, Length: 258, dtype: float64\n"
     ]
    }
   ],
   "source": [
    "srs = df.agg({'MonthlyCharges':'mean'})\n",
    "df['MonthlyCharges']=df['MonthlyCharges'].fillna(value=srs)\n",
    "print(df['MonthlyCharges'])"
   ]
  },
  {
   "cell_type": "code",
   "execution_count": null,
   "id": "a6729ca4-9922-4a06-a245-eb089815a995",
   "metadata": {},
   "outputs": [],
   "source": []
  }
 ],
 "metadata": {
  "kernelspec": {
   "display_name": "Python 3 (ipykernel)",
   "language": "python",
   "name": "python3"
  },
  "language_info": {
   "codemirror_mode": {
    "name": "ipython",
    "version": 3
   },
   "file_extension": ".py",
   "mimetype": "text/x-python",
   "name": "python",
   "nbconvert_exporter": "python",
   "pygments_lexer": "ipython3",
   "version": "3.11.5"
  }
 },
 "nbformat": 4,
 "nbformat_minor": 5
}
